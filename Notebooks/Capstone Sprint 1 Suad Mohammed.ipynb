{
 "cells": [
  {
   "cell_type": "markdown",
   "id": "99eb19e3",
   "metadata": {},
   "source": [
    "## Triage Data Analysis\n",
    "\n",
    "The analysis of ER data from 2 Hospitals will carried out to study the variables and their relationships with each other. "
   ]
  },
  {
   "cell_type": "code",
   "execution_count": 309,
   "id": "1c71722d",
   "metadata": {},
   "outputs": [],
   "source": [
    "#Import of libraries\n",
    "import numpy as np\n",
    "import pandas as pd\n",
    "import matplotlib.pyplot as plt\n",
    "\n",
    "import seaborn as sns\n",
    "\n",
    "from scipy import stats"
   ]
  },
  {
   "cell_type": "code",
   "execution_count": 310,
   "id": "68e3af89",
   "metadata": {},
   "outputs": [],
   "source": [
    "#loading dataset\n",
    "df_raw = pd.read_csv('data.csv',sep=';')"
   ]
  },
  {
   "cell_type": "markdown",
   "id": "e562f1de",
   "metadata": {},
   "source": [
    "Taking a quick glimpse at the dataset to see what our columns look like at a high level"
   ]
  },
  {
   "cell_type": "code",
   "execution_count": 311,
   "id": "99471ea1",
   "metadata": {},
   "outputs": [
    {
     "data": {
      "text/html": [
       "<div>\n",
       "<style scoped>\n",
       "    .dataframe tbody tr th:only-of-type {\n",
       "        vertical-align: middle;\n",
       "    }\n",
       "\n",
       "    .dataframe tbody tr th {\n",
       "        vertical-align: top;\n",
       "    }\n",
       "\n",
       "    .dataframe thead th {\n",
       "        text-align: right;\n",
       "    }\n",
       "</style>\n",
       "<table border=\"1\" class=\"dataframe\">\n",
       "  <thead>\n",
       "    <tr style=\"text-align: right;\">\n",
       "      <th></th>\n",
       "      <th>Group</th>\n",
       "      <th>Sex</th>\n",
       "      <th>Age</th>\n",
       "      <th>Patients number per hour</th>\n",
       "      <th>Arrival mode</th>\n",
       "      <th>Injury</th>\n",
       "      <th>Chief_complain</th>\n",
       "      <th>Mental</th>\n",
       "      <th>Pain</th>\n",
       "      <th>NRS_pain</th>\n",
       "      <th>...</th>\n",
       "      <th>BT</th>\n",
       "      <th>Saturation</th>\n",
       "      <th>KTAS_RN</th>\n",
       "      <th>Diagnosis in ED</th>\n",
       "      <th>Disposition</th>\n",
       "      <th>KTAS_expert</th>\n",
       "      <th>Error_group</th>\n",
       "      <th>Length of stay_min</th>\n",
       "      <th>KTAS duration_min</th>\n",
       "      <th>mistriage</th>\n",
       "    </tr>\n",
       "  </thead>\n",
       "  <tbody>\n",
       "    <tr>\n",
       "      <th>0</th>\n",
       "      <td>2</td>\n",
       "      <td>2</td>\n",
       "      <td>71</td>\n",
       "      <td>3</td>\n",
       "      <td>3</td>\n",
       "      <td>2</td>\n",
       "      <td>right ocular pain</td>\n",
       "      <td>1</td>\n",
       "      <td>1</td>\n",
       "      <td>2</td>\n",
       "      <td>...</td>\n",
       "      <td>36.6</td>\n",
       "      <td>100</td>\n",
       "      <td>2</td>\n",
       "      <td>Corneal abrasion</td>\n",
       "      <td>1</td>\n",
       "      <td>4</td>\n",
       "      <td>2</td>\n",
       "      <td>86</td>\n",
       "      <td>5,00</td>\n",
       "      <td>1</td>\n",
       "    </tr>\n",
       "    <tr>\n",
       "      <th>1</th>\n",
       "      <td>1</td>\n",
       "      <td>1</td>\n",
       "      <td>56</td>\n",
       "      <td>12</td>\n",
       "      <td>3</td>\n",
       "      <td>2</td>\n",
       "      <td>right forearm burn</td>\n",
       "      <td>1</td>\n",
       "      <td>1</td>\n",
       "      <td>2</td>\n",
       "      <td>...</td>\n",
       "      <td>36.5</td>\n",
       "      <td>NaN</td>\n",
       "      <td>4</td>\n",
       "      <td>Burn of hand, firts degree dorsum</td>\n",
       "      <td>1</td>\n",
       "      <td>5</td>\n",
       "      <td>4</td>\n",
       "      <td>64</td>\n",
       "      <td>3,95</td>\n",
       "      <td>1</td>\n",
       "    </tr>\n",
       "    <tr>\n",
       "      <th>2</th>\n",
       "      <td>2</td>\n",
       "      <td>1</td>\n",
       "      <td>68</td>\n",
       "      <td>8</td>\n",
       "      <td>2</td>\n",
       "      <td>2</td>\n",
       "      <td>arm pain, Lt</td>\n",
       "      <td>1</td>\n",
       "      <td>1</td>\n",
       "      <td>2</td>\n",
       "      <td>...</td>\n",
       "      <td>36.6</td>\n",
       "      <td>98</td>\n",
       "      <td>4</td>\n",
       "      <td>Fracture of surgical neck of humerus, closed</td>\n",
       "      <td>2</td>\n",
       "      <td>5</td>\n",
       "      <td>4</td>\n",
       "      <td>862</td>\n",
       "      <td>1,00</td>\n",
       "      <td>1</td>\n",
       "    </tr>\n",
       "  </tbody>\n",
       "</table>\n",
       "<p>3 rows × 24 columns</p>\n",
       "</div>"
      ],
      "text/plain": [
       "   Group  Sex  Age  Patients number per hour  Arrival mode  Injury  \\\n",
       "0      2    2   71                         3             3       2   \n",
       "1      1    1   56                        12             3       2   \n",
       "2      2    1   68                         8             2       2   \n",
       "\n",
       "       Chief_complain  Mental  Pain NRS_pain  ...    BT Saturation KTAS_RN  \\\n",
       "0   right ocular pain       1     1        2  ...  36.6        100       2   \n",
       "1  right forearm burn       1     1        2  ...  36.5        NaN       4   \n",
       "2        arm pain, Lt       1     1        2  ...  36.6         98       4   \n",
       "\n",
       "                                Diagnosis in ED Disposition KTAS_expert  \\\n",
       "0                              Corneal abrasion           1           4   \n",
       "1             Burn of hand, firts degree dorsum           1           5   \n",
       "2  Fracture of surgical neck of humerus, closed           2           5   \n",
       "\n",
       "   Error_group Length of stay_min  KTAS duration_min  mistriage  \n",
       "0            2                 86               5,00          1  \n",
       "1            4                 64               3,95          1  \n",
       "2            4                862               1,00          1  \n",
       "\n",
       "[3 rows x 24 columns]"
      ]
     },
     "execution_count": 311,
     "metadata": {},
     "output_type": "execute_result"
    }
   ],
   "source": [
    "#Viewing the first 3 columns of the dataset\n",
    "df_raw.head(3)"
   ]
  },
  {
   "cell_type": "markdown",
   "id": "223677fd",
   "metadata": {},
   "source": [
    "Tha dataset contains 24 rows of data containing a mix of numerical and categorical columns. Lets take a look at the number of columns and the datatypes of each of the columns. We will also check the number of unique entries in each row to get an idea of the variety of the contents of each column"
   ]
  },
  {
   "cell_type": "code",
   "execution_count": 312,
   "id": "f38c5164",
   "metadata": {},
   "outputs": [
    {
     "data": {
      "text/plain": [
       "(1267, 24)"
      ]
     },
     "execution_count": 312,
     "metadata": {},
     "output_type": "execute_result"
    }
   ],
   "source": [
    "#Checking the shape\n",
    "df_raw.shape"
   ]
  },
  {
   "cell_type": "code",
   "execution_count": 313,
   "id": "a351afcc",
   "metadata": {},
   "outputs": [
    {
     "name": "stdout",
     "output_type": "stream",
     "text": [
      "<class 'pandas.core.frame.DataFrame'>\n",
      "RangeIndex: 1267 entries, 0 to 1266\n",
      "Data columns (total 24 columns):\n",
      " #   Column                    Non-Null Count  Dtype \n",
      "---  ------                    --------------  ----- \n",
      " 0   Group                     1267 non-null   int64 \n",
      " 1   Sex                       1267 non-null   int64 \n",
      " 2   Age                       1267 non-null   int64 \n",
      " 3   Patients number per hour  1267 non-null   int64 \n",
      " 4   Arrival mode              1267 non-null   int64 \n",
      " 5   Injury                    1267 non-null   int64 \n",
      " 6   Chief_complain            1267 non-null   object\n",
      " 7   Mental                    1267 non-null   int64 \n",
      " 8   Pain                      1267 non-null   int64 \n",
      " 9   NRS_pain                  1267 non-null   object\n",
      " 10  SBP                       1267 non-null   object\n",
      " 11  DBP                       1267 non-null   object\n",
      " 12  HR                        1267 non-null   object\n",
      " 13  RR                        1267 non-null   object\n",
      " 14  BT                        1267 non-null   object\n",
      " 15  Saturation                579 non-null    object\n",
      " 16  KTAS_RN                   1267 non-null   int64 \n",
      " 17  Diagnosis in ED           1265 non-null   object\n",
      " 18  Disposition               1267 non-null   int64 \n",
      " 19  KTAS_expert               1267 non-null   int64 \n",
      " 20  Error_group               1267 non-null   int64 \n",
      " 21  Length of stay_min        1267 non-null   int64 \n",
      " 22  KTAS duration_min         1267 non-null   object\n",
      " 23  mistriage                 1267 non-null   int64 \n",
      "dtypes: int64(14), object(10)\n",
      "memory usage: 237.7+ KB\n"
     ]
    }
   ],
   "source": [
    "#Checking the datatypes of each column\n",
    "df_raw.info()"
   ]
  },
  {
   "cell_type": "code",
   "execution_count": 314,
   "id": "d0e042cf",
   "metadata": {},
   "outputs": [
    {
     "data": {
      "text/plain": [
       "Group                         2\n",
       "Sex                           2\n",
       "Age                          81\n",
       "Patients number per hour     16\n",
       "Arrival mode                  7\n",
       "Injury                        2\n",
       "Chief_complain              417\n",
       "Mental                        4\n",
       "Pain                          2\n",
       "NRS_pain                     11\n",
       "SBP                         127\n",
       "DBP                          83\n",
       "HR                           94\n",
       "RR                           11\n",
       "BT                           46\n",
       "Saturation                   22\n",
       "KTAS_RN                       5\n",
       "Diagnosis in ED             583\n",
       "Disposition                   7\n",
       "KTAS_expert                   5\n",
       "Error_group                  10\n",
       "Length of stay_min          716\n",
       "KTAS duration_min           392\n",
       "mistriage                     3\n",
       "dtype: int64"
      ]
     },
     "execution_count": 314,
     "metadata": {},
     "output_type": "execute_result"
    }
   ],
   "source": [
    "#Checking the number of unique values in each column\n",
    "df_raw.nunique()"
   ]
  },
  {
   "cell_type": "markdown",
   "id": "bffdbccc",
   "metadata": {},
   "source": [
    "The dataset contains several columns with entries that are numerical but represent string. For example the 'Mental' Column has numeric entries that stand for status i.e Alert,unconcious etc) We will convert these to text for the purposes of exploratory data analysis for ease of reading and interpretation"
   ]
  },
  {
   "cell_type": "markdown",
   "id": "54f5f7c0",
   "metadata": {},
   "source": [
    "## Data Cleaning"
   ]
  },
  {
   "cell_type": "markdown",
   "id": "33f6e33e",
   "metadata": {},
   "source": [
    "### Reformatting number based columns to text"
   ]
  },
  {
   "cell_type": "code",
   "execution_count": 315,
   "id": "dc5f6e71",
   "metadata": {},
   "outputs": [],
   "source": [
    "df_raw['mistriage'].replace({0: 'Correct', 1: 'Over triage', 2: 'Under triage'}, inplace=True)\n",
    "df_raw['Group'].replace({1: 'Local ED' , 2: 'Regional ED'}, inplace=True)\n",
    "df_raw['Injury'].replace({1: 'non-injured' , 2: 'injury'}, inplace=True)\n",
    "df_raw['Sex'].replace({1: 'Female' , 2: 'Male'}, inplace=True)\n",
    "df_raw['Pain'].replace({1: 'pain' , 0: 'non-pain'}, inplace=True)\n",
    "df_raw['NRS_pain'].replace({ '#BO�!': 0}, inplace=True) \n",
    "df_raw['Mental'].replace({1: 'Alert',2: 'Verbal Resppne',3: 'Pain Response',4: 'unconcious'}, inplace=True)\n",
    "df_raw['Disposition'].replace({1: 'Discharge',2: 'Ward admission', 3: 'ICU admission', 4: 'AMA discharge', 5: 'Transfer',6: 'Death' , 7: 'OP fom ED'},inplace=True)\n",
    "df_raw['Arrival mode'].replace({1: 'Walking',2: '119 use',3: 'Private car',4: 'Private ambulance',5: 'Public transporation (Police ets)',6: 'Wheelchair', 7: 'Others'}, inplace=True)"
   ]
  },
  {
   "cell_type": "code",
   "execution_count": 316,
   "id": "06ffabaa",
   "metadata": {},
   "outputs": [
    {
     "data": {
      "text/html": [
       "<div>\n",
       "<style scoped>\n",
       "    .dataframe tbody tr th:only-of-type {\n",
       "        vertical-align: middle;\n",
       "    }\n",
       "\n",
       "    .dataframe tbody tr th {\n",
       "        vertical-align: top;\n",
       "    }\n",
       "\n",
       "    .dataframe thead th {\n",
       "        text-align: right;\n",
       "    }\n",
       "</style>\n",
       "<table border=\"1\" class=\"dataframe\">\n",
       "  <thead>\n",
       "    <tr style=\"text-align: right;\">\n",
       "      <th></th>\n",
       "      <th>Group</th>\n",
       "      <th>Sex</th>\n",
       "      <th>Age</th>\n",
       "      <th>Patients number per hour</th>\n",
       "      <th>Arrival mode</th>\n",
       "      <th>Injury</th>\n",
       "      <th>Chief_complain</th>\n",
       "      <th>Mental</th>\n",
       "      <th>Pain</th>\n",
       "      <th>NRS_pain</th>\n",
       "      <th>...</th>\n",
       "      <th>BT</th>\n",
       "      <th>Saturation</th>\n",
       "      <th>KTAS_RN</th>\n",
       "      <th>Diagnosis in ED</th>\n",
       "      <th>Disposition</th>\n",
       "      <th>KTAS_expert</th>\n",
       "      <th>Error_group</th>\n",
       "      <th>Length of stay_min</th>\n",
       "      <th>KTAS duration_min</th>\n",
       "      <th>mistriage</th>\n",
       "    </tr>\n",
       "  </thead>\n",
       "  <tbody>\n",
       "    <tr>\n",
       "      <th>0</th>\n",
       "      <td>Regional ED</td>\n",
       "      <td>Male</td>\n",
       "      <td>71</td>\n",
       "      <td>3</td>\n",
       "      <td>Private car</td>\n",
       "      <td>injury</td>\n",
       "      <td>right ocular pain</td>\n",
       "      <td>Alert</td>\n",
       "      <td>pain</td>\n",
       "      <td>2</td>\n",
       "      <td>...</td>\n",
       "      <td>36.6</td>\n",
       "      <td>100</td>\n",
       "      <td>2</td>\n",
       "      <td>Corneal abrasion</td>\n",
       "      <td>Discharge</td>\n",
       "      <td>4</td>\n",
       "      <td>2</td>\n",
       "      <td>86</td>\n",
       "      <td>5,00</td>\n",
       "      <td>Over triage</td>\n",
       "    </tr>\n",
       "    <tr>\n",
       "      <th>1</th>\n",
       "      <td>Local ED</td>\n",
       "      <td>Female</td>\n",
       "      <td>56</td>\n",
       "      <td>12</td>\n",
       "      <td>Private car</td>\n",
       "      <td>injury</td>\n",
       "      <td>right forearm burn</td>\n",
       "      <td>Alert</td>\n",
       "      <td>pain</td>\n",
       "      <td>2</td>\n",
       "      <td>...</td>\n",
       "      <td>36.5</td>\n",
       "      <td>NaN</td>\n",
       "      <td>4</td>\n",
       "      <td>Burn of hand, firts degree dorsum</td>\n",
       "      <td>Discharge</td>\n",
       "      <td>5</td>\n",
       "      <td>4</td>\n",
       "      <td>64</td>\n",
       "      <td>3,95</td>\n",
       "      <td>Over triage</td>\n",
       "    </tr>\n",
       "    <tr>\n",
       "      <th>2</th>\n",
       "      <td>Regional ED</td>\n",
       "      <td>Female</td>\n",
       "      <td>68</td>\n",
       "      <td>8</td>\n",
       "      <td>119 use</td>\n",
       "      <td>injury</td>\n",
       "      <td>arm pain, Lt</td>\n",
       "      <td>Alert</td>\n",
       "      <td>pain</td>\n",
       "      <td>2</td>\n",
       "      <td>...</td>\n",
       "      <td>36.6</td>\n",
       "      <td>98</td>\n",
       "      <td>4</td>\n",
       "      <td>Fracture of surgical neck of humerus, closed</td>\n",
       "      <td>Ward admission</td>\n",
       "      <td>5</td>\n",
       "      <td>4</td>\n",
       "      <td>862</td>\n",
       "      <td>1,00</td>\n",
       "      <td>Over triage</td>\n",
       "    </tr>\n",
       "  </tbody>\n",
       "</table>\n",
       "<p>3 rows × 24 columns</p>\n",
       "</div>"
      ],
      "text/plain": [
       "         Group     Sex  Age  Patients number per hour Arrival mode  Injury  \\\n",
       "0  Regional ED    Male   71                         3  Private car  injury   \n",
       "1     Local ED  Female   56                        12  Private car  injury   \n",
       "2  Regional ED  Female   68                         8      119 use  injury   \n",
       "\n",
       "       Chief_complain Mental  Pain NRS_pain  ...    BT Saturation KTAS_RN  \\\n",
       "0   right ocular pain  Alert  pain        2  ...  36.6        100       2   \n",
       "1  right forearm burn  Alert  pain        2  ...  36.5        NaN       4   \n",
       "2        arm pain, Lt  Alert  pain        2  ...  36.6         98       4   \n",
       "\n",
       "                                Diagnosis in ED     Disposition KTAS_expert  \\\n",
       "0                              Corneal abrasion       Discharge           4   \n",
       "1             Burn of hand, firts degree dorsum       Discharge           5   \n",
       "2  Fracture of surgical neck of humerus, closed  Ward admission           5   \n",
       "\n",
       "   Error_group Length of stay_min KTAS duration_min    mistriage  \n",
       "0            2                 86              5,00  Over triage  \n",
       "1            4                 64              3,95  Over triage  \n",
       "2            4                862              1,00  Over triage  \n",
       "\n",
       "[3 rows x 24 columns]"
      ]
     },
     "execution_count": 316,
     "metadata": {},
     "output_type": "execute_result"
    }
   ],
   "source": [
    "df_raw.head(3)"
   ]
  },
  {
   "cell_type": "markdown",
   "id": "e95aa757",
   "metadata": {},
   "source": [
    "Our dataset is now much easier to interpret and explore since our categorical columns have text instead of numbers that require interpretation"
   ]
  },
  {
   "cell_type": "markdown",
   "id": "22db08ea",
   "metadata": {},
   "source": [
    "### Droping irrelavent columns "
   ]
  },
  {
   "cell_type": "markdown",
   "id": "e6abf97f",
   "metadata": {},
   "source": [
    "The dataset contains columns that are not applicable to the objective of the project. The dataset is from a comparison of Triage scores assigned at the ER and a retrospective score provided by KTAS experts and an analysis of why the scores are different. therefore columns applicable to this comparison ('KTAS_RN','Error_group','mistriage') will be removed.  "
   ]
  },
  {
   "cell_type": "code",
   "execution_count": 317,
   "id": "40b6e1b9",
   "metadata": {},
   "outputs": [],
   "source": [
    "#dropping columns that are not required\n",
    "df_raw.drop(['KTAS_RN','Error_group','mistriage','Disposition'],axis=1, inplace=True)"
   ]
  },
  {
   "cell_type": "markdown",
   "id": "62d1e4a0",
   "metadata": {},
   "source": [
    "### Identifying and dealing with duplicate/missing values"
   ]
  },
  {
   "cell_type": "code",
   "execution_count": 318,
   "id": "f682740c",
   "metadata": {},
   "outputs": [
    {
     "data": {
      "text/plain": [
       "0"
      ]
     },
     "execution_count": 318,
     "metadata": {},
     "output_type": "execute_result"
    }
   ],
   "source": [
    "#Checking to see if any rows are duplicated\n",
    "df_raw.duplicated().sum()"
   ]
  },
  {
   "cell_type": "code",
   "execution_count": 325,
   "id": "cdf67854",
   "metadata": {},
   "outputs": [
    {
     "data": {
      "text/plain": [
       "Group                        0.000000\n",
       "Sex                          0.000000\n",
       "Age                          0.000000\n",
       "Patients number per hour     0.000000\n",
       "Arrival mode                 0.000000\n",
       "Injury                       0.000000\n",
       "Chief_complain               0.000000\n",
       "Mental                       0.000000\n",
       "Pain                         0.000000\n",
       "NRS_pain                     0.000000\n",
       "SBP                          0.000000\n",
       "DBP                          0.000000\n",
       "HR                           0.000000\n",
       "RR                           0.000000\n",
       "BT                           0.000000\n",
       "Saturation                  55.011839\n",
       "Diagnosis in ED              0.157853\n",
       "KTAS_expert                  0.000000\n",
       "Length of stay_min           0.000000\n",
       "KTAS duration_min            0.000000\n",
       "dtype: float64"
      ]
     },
     "execution_count": 325,
     "metadata": {},
     "output_type": "execute_result"
    }
   ],
   "source": [
    "df_raw.isna().sum(axis=0)/df_raw.shape[0]*100"
   ]
  },
  {
   "cell_type": "markdown",
   "id": "eaa4ec24",
   "metadata": {},
   "source": [
    "##### 55% of the Saturation column is missing entries which is a significant amount "
   ]
  },
  {
   "cell_type": "code",
   "execution_count": 326,
   "id": "85a6e730",
   "metadata": {},
   "outputs": [
    {
     "data": {
      "image/png": "[encoded data removed]",
      "text/plain": [
       "<Figure size 864x360 with 1 Axes>"
      ]
     },
     "metadata": {
      "needs_background": "light"
     },
     "output_type": "display_data"
    }
   ],
   "source": [
    "plt.figure(figsize=(12, 5))\n",
    "\n",
    "plt.hist(df_raw[\"Saturation\"], bins=25)\n",
    "\n",
    "plt.title(\"Distribution of Saturation\")\n",
    "plt.ylabel('Counts')\n",
    "plt.xlabel(\"Saturation bins\")\n",
    "sns.despine()\n",
    "\n",
    "plt.show()"
   ]
  },
  {
   "cell_type": "code",
   "execution_count": 327,
   "id": "0bc61a44",
   "metadata": {},
   "outputs": [],
   "source": [
    "df_raw['Saturation'] = df_raw['Saturation'].apply(pd.to_numeric, errors='coerce')"
   ]
  },
  {
   "cell_type": "code",
   "execution_count": 328,
   "id": "3154d9ed",
   "metadata": {},
   "outputs": [
    {
     "data": {
      "text/plain": [
       "count    570.000000\n",
       "mean      97.024561\n",
       "std        4.350556\n",
       "min       20.000000\n",
       "25%       97.000000\n",
       "50%       98.000000\n",
       "75%       98.000000\n",
       "max      100.000000\n",
       "Name: Saturation, dtype: float64"
      ]
     },
     "execution_count": 328,
     "metadata": {},
     "output_type": "execute_result"
    }
   ],
   "source": [
    "df_raw[\"Saturation\"].describe()"
   ]
  },
  {
   "cell_type": "markdown",
   "id": "172ed5d8",
   "metadata": {},
   "source": [
    "Since the majority of saturation are between 90-100 with a low standard deviation. The missing valuies will be replaced with mean"
   ]
  },
  {
   "cell_type": "code",
   "execution_count": 306,
   "id": "28432449",
   "metadata": {},
   "outputs": [],
   "source": [
    "mean_saturation=df_raw[\"Saturation\"].mean()\n",
    "df_raw[\"Saturation\"]=df_raw[\"Saturation\"].fillna(mean_saturation)"
   ]
  },
  {
   "cell_type": "markdown",
   "id": "0df706d5",
   "metadata": {},
   "source": [
    "## Exploratory data analysis"
   ]
  },
  {
   "cell_type": "code",
   "execution_count": 303,
   "id": "b8418c60",
   "metadata": {},
   "outputs": [
    {
     "data": {
      "image/png": "[encoded data removed]",
      "text/plain": [
       "<Figure size 720x360 with 3 Axes>"
      ]
     },
     "metadata": {
      "needs_background": "light"
     },
     "output_type": "display_data"
    }
   ],
   "source": [
    "plt.subplots(1, 3) \n",
    "\n",
    "plt.subplot(1, 3, 1)  # (2,1) = total plot size, (0,0) = coordinates for *this* plot\n",
    "df_raw['KTAS_expert'].value_counts().plot(kind='bar',figsize=[10,5])\n",
    "plt.xlabel('KTAS Score', size=12)\n",
    "\n",
    "plt.ylabel('Count', size=12)\n",
    "plt.title('Breakdown of KTAS scores')\n",
    "\n",
    "plt.subplot(1, 3, 2)\n",
    "df_raw['Sex'].value_counts().plot(kind='bar')\n",
    "plt.ylabel('Count',size=12)\n",
    "plt.title('Breakdown by Gender')\n",
    "\n",
    "plt.subplot(1, 3, 3)\n",
    "df_raw['Injury'].value_counts().plot(kind='bar')\n",
    "plt.ylabel('Count',size=12)\n",
    "plt.title('Breakdown by Injury')\n",
    "\n",
    "plt.tight_layout() # Keeps plots from overlapping each other\n",
    "\n",
    "plt.show()"
   ]
  },
  {
   "cell_type": "code",
   "execution_count": 304,
   "id": "4236c3ea",
   "metadata": {},
   "outputs": [
    {
     "data": {
      "image/png": "[encoded data removed]",
      "text/plain": [
       "<Figure size 720x360 with 3 Axes>"
      ]
     },
     "metadata": {
      "needs_background": "light"
     },
     "output_type": "display_data"
    }
   ],
   "source": [
    "plt.subplots(1, 3) \n",
    "\n",
    "plt.subplot(1, 3, 1)  # (2,1) = total plot size, (0,0) = coordinates for *this* plot\n",
    "df_raw['NRS_pain'].value_counts().plot(kind='bar',figsize=[10,5])\n",
    "plt.xlabel('NRS_pain', size=12)\n",
    "plt.ylabel('Count', size=12)\n",
    "plt.title('Breakdown of Pain Scale')\n",
    "\n",
    "plt.subplot(1, 3, 2)\n",
    "df_raw['Mental'].value_counts().plot(kind='bar')\n",
    "plt.ylabel('Count',size=12)\n",
    "plt.title('Breakdown by Status of Incoming Patient')\n",
    "\n",
    "plt.subplot(1, 3, 3)\n",
    "df_raw['Patients number per hour'].value_counts().plot(kind='bar')\n",
    "plt.ylabel('Count',size=12)\n",
    "plt.title('Breakdown by number of Incoming Patients')\n",
    "\n",
    "plt.tight_layout() # Keeps plots from overlapping each other\n",
    "\n",
    "plt.show()"
   ]
  },
  {
   "cell_type": "code",
   "execution_count": 276,
   "id": "8ddbe820",
   "metadata": {},
   "outputs": [
    {
     "data": {
      "image/png": "[encoded data removed]",
      "text/plain": [
       "<Figure size 720x360 with 2 Axes>"
      ]
     },
     "metadata": {
      "needs_background": "light"
     },
     "output_type": "display_data"
    }
   ],
   "source": [
    "plt.subplots(1, 2) \n",
    "\n",
    "plt.subplot(1, 2, 1)  # (2,1) = total plot size, (0,0) = coordinates for *this* plot\n",
    "df_raw['SBP'].value_counts(bins=[0.0,70,100,130,160,190,220,250]).plot(kind='bar',figsize=[10,5])\n",
    "plt.xlabel('SBP Ranges', size=12)\n",
    "plt.ylabel('Count', size=12)\n",
    "plt.title('Breakdown of SBP')\n",
    "\n",
    "plt.subplot(1, 2, 2)\n",
    "df_raw['DBP'].value_counts(bins=[10,70,100,130,160]).plot(kind='bar',figsize=[10,5])\n",
    "plt.ylabel('Count',size=12)\n",
    "plt.xlabel('DBP Ranges', size=12)\n",
    "plt.title('Breakdown of DBP')\n",
    "\n",
    "plt.tight_layout() # Keeps plots from overlapping each other\n",
    "\n",
    "plt.show()"
   ]
  },
  {
   "cell_type": "code",
   "execution_count": 282,
   "id": "13c0adf7",
   "metadata": {},
   "outputs": [
    {
     "data": {
      "image/png": "[encoded data removed]",
      "text/plain": [
       "<Figure size 720x360 with 2 Axes>"
      ]
     },
     "metadata": {
      "needs_background": "light"
     },
     "output_type": "display_data"
    }
   ],
   "source": [
    "plt.subplots(1, 2) \n",
    "\n",
    "plt.subplot(1, 2, 1)  # (2,1) = total plot size, (0,0) = coordinates for *this* plot\n",
    "df_raw['HR'].value_counts(bins=[10,70,100,130,160]).plot(kind='bar',figsize=[10,5])\n",
    "plt.xlabel('Heart Rate', size=12)\n",
    "plt.ylabel('Count', size=12)\n",
    "plt.title('Breakdown of Heart rate')\n",
    "\n",
    "plt.subplot(1, 2, 2)\n",
    "df_raw['RR'].value_counts().plot(kind='bar',figsize=[10,5])\n",
    "plt.ylabel('Count',size=12)\n",
    "plt.title('Breakdown by Respiratory Rate')\n",
    "\n",
    "plt.tight_layout() # Keeps plots from overlapping each other\n",
    "\n",
    "plt.show()"
   ]
  },
  {
   "cell_type": "code",
   "execution_count": 241,
   "id": "bc56c005",
   "metadata": {},
   "outputs": [
    {
     "data": {
      "text/plain": [
       "<AxesSubplot:>"
      ]
     },
     "execution_count": 241,
     "metadata": {},
     "output_type": "execute_result"
    },
    {
     "data": {
      "image/png": "[encoded data removed]",
      "text/plain": [
       "<Figure size 432x288 with 1 Axes>"
      ]
     },
     "metadata": {
      "needs_background": "light"
     },
     "output_type": "display_data"
    }
   ],
   "source": [
    "df_raw['SBP'].value_counts(bins=[0.0,70,100,130,160,190,220,250])"
   ]
  },
  {
   "cell_type": "code",
   "execution_count": 272,
   "id": "cce9f6d1",
   "metadata": {},
   "outputs": [
    {
     "data": {
      "text/plain": [
       "(70.0, 100.0]     756\n",
       "(9.999, 70.0]     402\n",
       "(100.0, 130.0]     76\n",
       "(130.0, 160.0]      4\n",
       "Name: DBP, dtype: int64"
      ]
     },
     "execution_count": 272,
     "metadata": {},
     "output_type": "execute_result"
    }
   ],
   "source": [
    "df_raw['DBP'].value_counts(bins=[10,70,100,130,160])"
   ]
  },
  {
   "cell_type": "code",
   "execution_count": 281,
   "id": "0003b97c",
   "metadata": {},
   "outputs": [
    {
     "data": {
      "text/plain": [
       "(70.0, 100.0]     777\n",
       "(9.999, 70.0]     270\n",
       "(100.0, 130.0]    193\n",
       "(130.0, 160.0]      7\n",
       "Name: HR, dtype: int64"
      ]
     },
     "execution_count": 281,
     "metadata": {},
     "output_type": "execute_result"
    }
   ],
   "source": [
    "df_raw['HR'].value_counts(bins=[10,70,100,130,160])"
   ]
  },
  {
   "cell_type": "code",
   "execution_count": 145,
   "id": "fdb7747d",
   "metadata": {},
   "outputs": [
    {
     "data": {
      "text/plain": [
       "20    793\n",
       "18    186\n",
       "16    159\n",
       "22     50\n",
       "24     34\n",
       "??     22\n",
       "28     13\n",
       "26      4\n",
       "30      3\n",
       "23      2\n",
       "14      1\n",
       "Name: RR, dtype: int64"
      ]
     },
     "execution_count": 145,
     "metadata": {},
     "output_type": "execute_result"
    }
   ],
   "source": [
    "df_raw['RR'].value_counts()"
   ]
  },
  {
   "cell_type": "markdown",
   "id": "2011a40f",
   "metadata": {},
   "source": [
    "### Investigating Relationships between variables"
   ]
  },
  {
   "cell_type": "code",
   "execution_count": 246,
   "id": "35db372c",
   "metadata": {},
   "outputs": [
    {
     "data": {
      "text/plain": [
       "<AxesSubplot:title={'center':'Average patient pain score by KTAS score'}, xlabel='KTAS_expert', ylabel='Average NRS Pain Score'>"
      ]
     },
     "execution_count": 246,
     "metadata": {},
     "output_type": "execute_result"
    },
    {
     "data": {
      "image/png": "[encoded data removed]",
      "text/plain": [
       "<Figure size 432x288 with 1 Axes>"
      ]
     },
     "metadata": {
      "needs_background": "light"
     },
     "output_type": "display_data"
    }
   ],
   "source": [
    "df_raw.groupby('KTAS_expert')['NRS_pain'].mean().plot(kind='bar',title='Average patient pain score by KTAS score',ylabel='Average NRS Pain Score')"
   ]
  },
  {
   "cell_type": "code",
   "execution_count": 238,
   "id": "8ef38200",
   "metadata": {},
   "outputs": [
    {
     "data": {
      "text/plain": [
       "<AxesSubplot:ylabel='KTAS_expert'>"
      ]
     },
     "execution_count": 238,
     "metadata": {},
     "output_type": "execute_result"
    },
    {
     "data": {
      "image/png": "[encoded data removed]",
      "text/plain": [
       "<Figure size 1008x576 with 1 Axes>"
      ]
     },
     "metadata": {
      "needs_background": "light"
     },
     "output_type": "display_data"
    }
   ],
   "source": [
    "df_raw.groupby('KTAS_expert')['Mental'].value_counts().unstack(level=-1).plot(kind = 'barh', rot = 0, figsize=[14,8],ylabel='Count')"
   ]
  },
  {
   "cell_type": "code",
   "execution_count": 231,
   "id": "2dab7d18",
   "metadata": {},
   "outputs": [
    {
     "data": {
      "text/plain": [
       "<AxesSubplot:xlabel='KTAS_expert', ylabel='Count'>"
      ]
     },
     "execution_count": 231,
     "metadata": {},
     "output_type": "execute_result"
    },
    {
     "data": {
      "image/png": "[encoded data removed]",
      "text/plain": [
       "<Figure size 720x432 with 1 Axes>"
      ]
     },
     "metadata": {
      "needs_background": "light"
     },
     "output_type": "display_data"
    }
   ],
   "source": [
    "df_raw.groupby('KTAS_expert')['Injury'].value_counts().unstack(level=-1).plot(kind = 'bar', rot = 0, figsize=[10,6],ylabel='Count')"
   ]
  },
  {
   "cell_type": "code",
   "execution_count": 284,
   "id": "4862ba43",
   "metadata": {},
   "outputs": [
    {
     "ename": "TypeError",
     "evalue": "text() missing 2 required positional arguments: 'y' and 's'",
     "output_type": "error",
     "traceback": [
      "\u001b[0;31m---------------------------------------------------------------------------\u001b[0m",
      "\u001b[0;31mTypeError\u001b[0m                                 Traceback (most recent call last)",
      "\u001b[0;32m<ipython-input-284-a719f380ac00>\u001b[0m in \u001b[0;36m<module>\u001b[0;34m\u001b[0m\n\u001b[1;32m      1\u001b[0m \u001b[0mdf_raw\u001b[0m\u001b[0;34m.\u001b[0m\u001b[0mgroupby\u001b[0m\u001b[0;34m(\u001b[0m\u001b[0;34m'KTAS_expert'\u001b[0m\u001b[0;34m)\u001b[0m\u001b[0;34m[\u001b[0m\u001b[0;34m'Patients number per hour'\u001b[0m\u001b[0;34m]\u001b[0m\u001b[0;34m.\u001b[0m\u001b[0mmean\u001b[0m\u001b[0;34m(\u001b[0m\u001b[0;34m)\u001b[0m\u001b[0;34m.\u001b[0m\u001b[0mplot\u001b[0m\u001b[0;34m(\u001b[0m\u001b[0mkind\u001b[0m \u001b[0;34m=\u001b[0m \u001b[0;34m'bar'\u001b[0m\u001b[0;34m,\u001b[0m \u001b[0mrot\u001b[0m \u001b[0;34m=\u001b[0m \u001b[0;36m0\u001b[0m\u001b[0;34m,\u001b[0m \u001b[0mfigsize\u001b[0m\u001b[0;34m=\u001b[0m\u001b[0;34m[\u001b[0m\u001b[0;36m10\u001b[0m\u001b[0;34m,\u001b[0m\u001b[0;36m6\u001b[0m\u001b[0;34m]\u001b[0m\u001b[0;34m,\u001b[0m\u001b[0mtitle\u001b[0m\u001b[0;34m=\u001b[0m\u001b[0;34m'Average number of patients in ER when patient Traiged'\u001b[0m\u001b[0;34m,\u001b[0m\u001b[0mylabel\u001b[0m\u001b[0;34m=\u001b[0m\u001b[0;34m'Average number of patients in ER'\u001b[0m\u001b[0;34m,\u001b[0m\u001b[0mxlabel\u001b[0m\u001b[0;34m=\u001b[0m\u001b[0;34m'KTAS Score'\u001b[0m\u001b[0;34m)\u001b[0m\u001b[0;34m\u001b[0m\u001b[0;34m\u001b[0m\u001b[0m\n\u001b[0;32m----> 2\u001b[0;31m \u001b[0mplt\u001b[0m\u001b[0;34m.\u001b[0m\u001b[0mtext\u001b[0m\u001b[0;34m(\u001b[0m\u001b[0mdf_raw\u001b[0m\u001b[0;34m[\u001b[0m\u001b[0;34m'Patients number per hour'\u001b[0m\u001b[0;34m]\u001b[0m\u001b[0;34m)\u001b[0m\u001b[0;34m\u001b[0m\u001b[0;34m\u001b[0m\u001b[0m\n\u001b[0m",
      "\u001b[0;31mTypeError\u001b[0m: text() missing 2 required positional arguments: 'y' and 's'"
     ]
    },
    {
     "data": {
      "image/png": "[encoded data removed]",
      "text/plain": [
       "<Figure size 720x432 with 1 Axes>"
      ]
     },
     "metadata": {
      "needs_background": "light"
     },
     "output_type": "display_data"
    }
   ],
   "source": [
    "df_raw.groupby('KTAS_expert')['Patients number per hour'].mean().plot(kind = 'bar', rot = 0, figsize=[10,6],title='Average number of patients in ER when patient Traiged',ylabel='Average number of patients in ER',xlabel='KTAS Score')\n"
   ]
  },
  {
   "cell_type": "markdown",
   "id": "40d50307",
   "metadata": {},
   "source": [
    "### Findings"
   ]
  },
  {
   "cell_type": "markdown",
   "id": "41937772",
   "metadata": {},
   "source": [
    "\n",
    "Patients with a high triage score are more likely to be injured\n",
    "\n",
    "Patients assigned a non emergency triage score usually occurs when ER is more crowded (high number of patients per hour)\n",
    "\n",
    "Non emergency patients report a higher Pain level\n",
    "\n",
    "Unconcious patients are more likely to be assigned a high emergency triage score\n"
   ]
  },
  {
   "cell_type": "code",
   "execution_count": null,
   "id": "dc082adc",
   "metadata": {},
   "outputs": [],
   "source": []
  }
 ],
 "metadata": {
  "kernelspec": {
   "display_name": "Python 3",
   "language": "python",
   "name": "python3"
  },
  "language_info": {
   "codemirror_mode": {
    "name": "ipython",
    "version": 3
   },
   "file_extension": ".py",
   "mimetype": "text/x-python",
   "name": "python",
   "nbconvert_exporter": "python",
   "pygments_lexer": "ipython3",
   "version": "3.8.8"
  }
 },
 "nbformat": 4,
 "nbformat_minor": 5
}
